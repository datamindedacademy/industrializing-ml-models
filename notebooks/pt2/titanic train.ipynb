{
 "cells": [
  {
   "cell_type": "code",
   "execution_count": 1,
   "id": "fc6e72a7-3e2d-413f-bb4b-aed51239f440",
   "metadata": {
    "tags": []
   },
   "outputs": [],
   "source": [
    "%load_ext autoreload\n",
    "%autoreload 2"
   ]
  },
  {
   "cell_type": "code",
   "execution_count": 2,
   "id": "105ccbf9",
   "metadata": {
    "tags": []
   },
   "outputs": [],
   "source": [
    "from titanic import credentials, transformations, models\n",
    "from titanic.storage import Storage"
   ]
  },
  {
   "cell_type": "code",
   "execution_count": 3,
   "metadata": {},
   "outputs": [],
   "source": [
    "import mlflow\n",
    "\n",
    "mlflow.set_tracking_uri('http://127.0.0.1:5001')\n",
    "mlflow.sklearn.autolog()"
   ]
  },
  {
   "cell_type": "markdown",
   "id": "4ef01230-f807-4638-a940-514bf6a6cc8b",
   "metadata": {
    "tags": []
   },
   "source": [
    "## Load titanic training dataset"
   ]
  },
  {
   "cell_type": "code",
   "execution_count": 4,
   "id": "bb5f9c12-8e14-46a6-b13e-1fd37d74c589",
   "metadata": {
    "tags": []
   },
   "outputs": [],
   "source": [
    "credentials.load()\n",
    "storage = Storage(bucket = \"industrializing-ml-models\")"
   ]
  },
  {
   "cell_type": "code",
   "execution_count": 5,
   "id": "d01d5cfc-9174-4d16-9c1e-1f63d0876177",
   "metadata": {},
   "outputs": [],
   "source": [
    "df_train = storage.read_csv('titanic/train.csv')\n",
    "df_train = transformations.add_all_features(df_train)"
   ]
  },
  {
   "cell_type": "markdown",
   "id": "b4168ad0-6710-43dd-a4f1-785dfe40f92d",
   "metadata": {
    "tags": []
   },
   "source": [
    "### Train classifier"
   ]
  },
  {
   "cell_type": "code",
   "execution_count": 6,
   "id": "cbf6f4e7-08f8-4e47-88ad-fe79c2492877",
   "metadata": {
    "tags": []
   },
   "outputs": [
    {
     "name": "stderr",
     "output_type": "stream",
     "text": [
      "2023/11/30 22:12:48 INFO mlflow.utils.autologging_utils: Created MLflow autologging run with ID '381280a3b3394e1da7fe224d88b44ffc', which will track hyperparameters, performance metrics, model artifacts, and lineage information for the current sklearn workflow\n"
     ]
    },
    {
     "name": "stdout",
     "output_type": "stream",
     "text": [
      "Classifier accuracy: 0.9233055315885341\n"
     ]
    }
   ],
   "source": [
    "train_features = transformations.select_features_for_ml(df_train)\n",
    "train_target = transformations.select_target_for_ml(df_train)\n",
    "classifier, accuracy = models.fit_random_forest(train_features, train_target)\n",
    "\n",
    "print(f\"Classifier accuracy: {accuracy}\")"
   ]
  },
  {
   "cell_type": "code",
   "execution_count": 7,
   "metadata": {},
   "outputs": [
    {
     "name": "stderr",
     "output_type": "stream",
     "text": [
      "Successfully registered model 'titanic-random-forest'.\n",
      "2023/11/30 22:12:51 INFO mlflow.store.model_registry.abstract_store: Waiting up to 300 seconds for model version to finish creation. Model name: titanic-random-forest, version 1\n",
      "Created version '1' of model 'titanic-random-forest'.\n"
     ]
    },
    {
     "data": {
      "text/plain": [
       "<mlflow.models.model.ModelInfo at 0x2a8ebfc40>"
      ]
     },
     "execution_count": 7,
     "metadata": {},
     "output_type": "execute_result"
    }
   ],
   "source": [
    "mlflow.sklearn.log_model(\n",
    "    sk_model=classifier,\n",
    "    artifact_path=\"sklearn-model\",\n",
    "    signature=mlflow.models.infer_signature(train_features, train_target),\n",
    "    registered_model_name=\"titanic-random-forest\",\n",
    ")"
   ]
  },
  {
   "cell_type": "code",
   "execution_count": 8,
   "id": "fd77fdd7-fc52-4a54-b993-180ac05f1b7d",
   "metadata": {},
   "outputs": [],
   "source": [
    "mlflow.end_run()"
   ]
  }
 ],
 "metadata": {
  "kernelspec": {
   "display_name": "Python 3 (ipykernel)",
   "language": "python",
   "name": "python3"
  },
  "language_info": {
   "codemirror_mode": {
    "name": "ipython",
    "version": 3
   },
   "file_extension": ".py",
   "mimetype": "text/x-python",
   "name": "python",
   "nbconvert_exporter": "python",
   "pygments_lexer": "ipython3",
   "version": "3.9.16"
  }
 },
 "nbformat": 4,
 "nbformat_minor": 5
}
